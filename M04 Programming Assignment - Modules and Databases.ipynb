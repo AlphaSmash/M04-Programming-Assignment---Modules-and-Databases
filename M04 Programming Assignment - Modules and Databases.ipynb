{
 "cells": [
  {
   "cell_type": "code",
   "execution_count": 2,
   "id": "62e2ce3c",
   "metadata": {},
   "outputs": [
    {
     "name": "stdout",
     "output_type": "stream",
     "text": [
      "Open 9-5 daily\n"
     ]
    }
   ],
   "source": [
    "import zoo\n",
    "\n",
    "zoo.hours()"
   ]
  },
  {
   "cell_type": "code",
   "execution_count": 3,
   "id": "4754c001",
   "metadata": {},
   "outputs": [
    {
     "name": "stdout",
     "output_type": "stream",
     "text": [
      "Open 9-5 daily\n"
     ]
    }
   ],
   "source": [
    "import zoo as menagerie\n",
    "\n",
    "menagerie.hours()"
   ]
  },
  {
   "cell_type": "code",
   "execution_count": 21,
   "id": "71ba51eb",
   "metadata": {
    "scrolled": true
   },
   "outputs": [
    {
     "data": {
      "text/plain": [
       "<sqlalchemy.engine.cursor.LegacyCursorResult at 0x2282fb09c50>"
      ]
     },
     "execution_count": 21,
     "metadata": {},
     "output_type": "execute_result"
    }
   ],
   "source": [
    "import sqlalchemy as sa\n",
    "\n",
    "# Create an SQLite database engine\n",
    "engine = sa.create_engine('sqlite://')\n",
    "\n",
    "conn.execute('''CREATE TABLE books\n",
    "     (title VARCHAR(200) PRIMARY KEY,\n",
    "     author VARCHAR(200),\n",
    "     year INT)''')"
   ]
  },
  {
   "cell_type": "code",
   "execution_count": 22,
   "id": "20f9a8c2",
   "metadata": {},
   "outputs": [
    {
     "data": {
      "text/plain": [
       "<sqlalchemy.engine.cursor.LegacyCursorResult at 0x2282fb0a290>"
      ]
     },
     "execution_count": 22,
     "metadata": {},
     "output_type": "execute_result"
    }
   ],
   "source": [
    "ins = 'INSERT INTO books (title, author, year) VALUES (?, ?, ?)'\n",
    "conn.execute(ins, 'The Weirdstone of Brisingamen', 'Alan Garner', 1960)"
   ]
  },
  {
   "cell_type": "code",
   "execution_count": 23,
   "id": "74344f3e",
   "metadata": {},
   "outputs": [
    {
     "data": {
      "text/plain": [
       "<sqlalchemy.engine.cursor.LegacyCursorResult at 0x2282fae9b10>"
      ]
     },
     "execution_count": 23,
     "metadata": {},
     "output_type": "execute_result"
    }
   ],
   "source": [
    "conn.execute(ins, 'Perdido Street Station', 'China Mieville', 2000)"
   ]
  },
  {
   "cell_type": "code",
   "execution_count": 24,
   "id": "02595570",
   "metadata": {},
   "outputs": [
    {
     "data": {
      "text/plain": [
       "<sqlalchemy.engine.cursor.LegacyCursorResult at 0x2282f276490>"
      ]
     },
     "execution_count": 24,
     "metadata": {},
     "output_type": "execute_result"
    }
   ],
   "source": [
    "conn.execute(ins, 'Thud!', 'Terry Pratchett', 2005)"
   ]
  },
  {
   "cell_type": "code",
   "execution_count": 25,
   "id": "0925d8d0",
   "metadata": {},
   "outputs": [
    {
     "data": {
      "text/plain": [
       "<sqlalchemy.engine.cursor.LegacyCursorResult at 0x2282f276a10>"
      ]
     },
     "execution_count": 25,
     "metadata": {},
     "output_type": "execute_result"
    }
   ],
   "source": [
    "conn.execute(ins, 'The Spellman Files', 'Lisa Lutz', 2007)"
   ]
  },
  {
   "cell_type": "code",
   "execution_count": 26,
   "id": "33d2fcfa",
   "metadata": {},
   "outputs": [
    {
     "data": {
      "text/plain": [
       "<sqlalchemy.engine.cursor.LegacyCursorResult at 0x2282f632650>"
      ]
     },
     "execution_count": 26,
     "metadata": {},
     "output_type": "execute_result"
    }
   ],
   "source": [
    "conn.execute(ins, 'Small Gods', 'Terry Pratchett', 1992)"
   ]
  },
  {
   "cell_type": "code",
   "execution_count": 32,
   "id": "c84f66e4",
   "metadata": {},
   "outputs": [],
   "source": [
    "rows = conn.execute('SELECT title FROM books ORDER BY title')"
   ]
  },
  {
   "cell_type": "code",
   "execution_count": 33,
   "id": "ae024cfb",
   "metadata": {},
   "outputs": [
    {
     "name": "stdout",
     "output_type": "stream",
     "text": [
      "('Perdido Street Station',)\n",
      "('Small Gods',)\n",
      "('The Spellman Files',)\n",
      "('The Weirdstone of Brisingamen',)\n",
      "('Thud!',)\n"
     ]
    }
   ],
   "source": [
    "for row in rows:\n",
    "    print(row)"
   ]
  }
 ],
 "metadata": {
  "kernelspec": {
   "display_name": "Python 3 (ipykernel)",
   "language": "python",
   "name": "python3"
  },
  "language_info": {
   "codemirror_mode": {
    "name": "ipython",
    "version": 3
   },
   "file_extension": ".py",
   "mimetype": "text/x-python",
   "name": "python",
   "nbconvert_exporter": "python",
   "pygments_lexer": "ipython3",
   "version": "3.11.5"
  }
 },
 "nbformat": 4,
 "nbformat_minor": 5
}
